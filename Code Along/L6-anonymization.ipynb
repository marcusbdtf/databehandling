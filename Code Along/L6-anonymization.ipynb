{
 "cells": [
  {
   "cell_type": "markdown",
   "metadata": {},
   "source": [
    "## Anonymization with hash"
   ]
  },
  {
   "cell_type": "code",
   "execution_count": 8,
   "metadata": {},
   "outputs": [
    {
     "name": "stdout",
     "output_type": "stream",
     "text": [
      "b'gore_bord@gmail.com'\n",
      "No change 7d6d9a849ccc7f5febe065ebe3b4f39558fc96ef865e02333dd7b7426ff0c057\n",
      "Small change 0290afd54f254c13b9b8c0d6037e4aaf26c65bb025b1815f2ef8a81f3042d7dc\n"
     ]
    }
   ],
   "source": [
    "import hashlib as hl\n",
    "\n",
    "#utf-8 encoded version\n",
    "secret = \"gore_bord@gmail.com\".encode()\n",
    "secret2 = \"gore_bord1@gmail.com\".encode()\n",
    "print(secret)\n",
    "\n",
    "secret_hash = hl.sha256(secret).hexdigest()\n",
    "secret_hash2 = hl.sha256(secret2).hexdigest()\n",
    "print(f\"No change {secret_hash}\")\n",
    "print(f\"Small change {secret_hash2}\")"
   ]
  }
 ],
 "metadata": {
  "interpreter": {
   "hash": "80ac11971b307f96c223a62ccb623679d02a0bbb0b9d8710a40e3f44f4557e78"
  },
  "kernelspec": {
   "display_name": "Python 3.9.7 64-bit ('databehandling-08Ftq_K_': pipenv)",
   "name": "python3"
  },
  "language_info": {
   "codemirror_mode": {
    "name": "ipython",
    "version": 3
   },
   "file_extension": ".py",
   "mimetype": "text/x-python",
   "name": "python",
   "nbconvert_exporter": "python",
   "pygments_lexer": "ipython3",
   "version": "3.9.7"
  },
  "orig_nbformat": 4
 },
 "nbformat": 4,
 "nbformat_minor": 2
}
